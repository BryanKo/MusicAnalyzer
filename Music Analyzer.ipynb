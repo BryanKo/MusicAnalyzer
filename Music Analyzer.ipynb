{
 "cells": [
  {
   "cell_type": "code",
   "execution_count": 1,
   "metadata": {},
   "outputs": [],
   "source": [
    "%matplotlib inline\n",
    "\n",
    "import matplotlib.pyplot as plt\n",
    "import tensorflow as tf\n",
    "import numpy as np\n",
    "from IPython.display import Audio\n",
    "\n",
    "tfrecords_filename = 'D:/Documents/nsynth/nsynth-train.tfrecord'"
   ]
  },
  {
   "cell_type": "code",
   "execution_count": 2,
   "metadata": {},
   "outputs": [],
   "source": [
    "def nsynth_generator(tfrecords_filename):\n",
    "    for serialized_example in tf.python_io.tf_record_iterator(tfrecords_filename):\n",
    "        example = tf.train.Example()\n",
    "        example.ParseFromString(serialized_example)\n",
    "        f = example.features.feature\n",
    "        i=0\n",
    "#         result = tf.train.Example.FromString(serialized_example)\n",
    "#         print(result)\n",
    "        data_array = []\n",
    "\n",
    "        audio = np.array(f['audio'].float_list.value)\n",
    "\n",
    "        data = {\n",
    "            'note':\n",
    "                f['note'].int64_list.value[i],\n",
    "            'note_str':\n",
    "                f['note_str'].bytes_list.value[i],\n",
    "            'instrument':\n",
    "                f['instrument'].int64_list.value[i],\n",
    "            'instrument_str':\n",
    "                f['instrument_str'].bytes_list.value[i],\n",
    "            'pitch':\n",
    "                f['pitch'].int64_list.value[i],\n",
    "            'velocity':\n",
    "                f['pitch'].int64_list.value[i],\n",
    "            'samplerate':\n",
    "                f['sample_rate'].int64_list.value[i],\n",
    "            'audio':\n",
    "                np.array(f['audio'].float_list.value),\n",
    "            'qualities':\n",
    "                np.array(f['qualities'].int64_list.value),\n",
    "            'qualities_str':\n",
    "                np.array(f['qualities_str'].int64_list.value),\n",
    "            'instrument_family':\n",
    "                f['instrument_family'].int64_list.value[i],\n",
    "            'instrument_family_str':\n",
    "                f['instrument_family_str'].bytes_list.value[i],\n",
    "            'instrument_source':\n",
    "                f['instrument_family'].int64_list.value[i],\n",
    "            'instrument_source_str':\n",
    "                f['instrument_source_str'].bytes_list.value[i],\n",
    "        }\n",
    "#         print(data)\n",
    "\n",
    "        yield data, audio"
   ]
  },
  {
   "cell_type": "code",
   "execution_count": 13,
   "metadata": {},
   "outputs": [],
   "source": [
    "gen_samples = nsynth_generator(tfrecords_filename)\n",
    "metadata, audio = next(gen_samples)\n",
    "metadata, audio = next(gen_samples)\n",
    "metadata, audio = next(gen_samples)"
   ]
  },
  {
   "cell_type": "code",
   "execution_count": 14,
   "metadata": {},
   "outputs": [
    {
     "name": "stdout",
     "output_type": "stream",
     "text": [
      "64000\n"
     ]
    },
    {
     "data": {
      "text/plain": [
       "[<matplotlib.lines.Line2D at 0x275b1c7c3c8>]"
      ]
     },
     "execution_count": 14,
     "metadata": {},
     "output_type": "execute_result"
    },
    {
     "data": {
      "image/png": "[encoded data removed]",
      "text/plain": [
       "<Figure size 432x288 with 1 Axes>"
      ]
     },
     "metadata": {},
     "output_type": "display_data"
    }
   ],
   "source": [
    "print(len(audio))\n",
    "Audio(audio, rate=metadata['samplerate'])\n",
    "plt.plot(audio)"
   ]
  },
  {
   "cell_type": "code",
   "execution_count": null,
   "metadata": {},
   "outputs": [],
   "source": [
    "for example in tf.python_io.tf_record_iterator(tfrecords_filename):\n",
    "    result = tf.train.Example.FromString(example)\n",
    "    print(result)"
   ]
  },
  {
   "cell_type": "code",
   "execution_count": null,
   "metadata": {},
   "outputs": [],
   "source": []
  }
 ],
 "metadata": {
  "kernelspec": {
   "display_name": "Python 3",
   "language": "python",
   "name": "python3"
  },
  "language_info": {
   "codemirror_mode": {
    "name": "ipython",
    "version": 3
   },
   "file_extension": ".py",
   "mimetype": "text/x-python",
   "name": "python",
   "nbconvert_exporter": "python",
   "pygments_lexer": "ipython3",
   "version": "3.5.5"
  }
 },
 "nbformat": 4,
 "nbformat_minor": 2
}
