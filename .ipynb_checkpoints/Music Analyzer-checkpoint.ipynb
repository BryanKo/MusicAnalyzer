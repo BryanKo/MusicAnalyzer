{
 "cells": [
  {
   "cell_type": "code",
   "execution_count": 12,
   "metadata": {},
   "outputs": [],
   "source": [
    "%matplotlib inline\n",
    "\n",
    "import matplotlib.pyplot as plt\n",
    "import tensorflow as tf\n",
    "import numpy as np\n",
    "from IPython.display import Audio\n",
    "import librosa\n",
    "import librosa.display\n",
    "\n",
    "tfrecords_filename = 'nsynth-train.tfrecord'"
   ]
  },
  {
   "cell_type": "code",
   "execution_count": 2,
   "metadata": {},
   "outputs": [],
   "source": [
    "def nsynth_generator(tfrecords_filename):\n",
    "    for serialized_example in tf.python_io.tf_record_iterator(tfrecords_filename):\n",
    "        example = tf.train.Example()\n",
    "        example.ParseFromString(serialized_example)\n",
    "        f = example.features.feature\n",
    "        i=0\n",
    "#         result = tf.train.Example.FromString(serialized_example)\n",
    "#         print(result)\n",
    "        data_array = []\n",
    "\n",
    "        audio = np.array(f['audio'].float_list.value)\n",
    "\n",
    "        data = {\n",
    "            'note':\n",
    "                f['note'].int64_list.value[i],\n",
    "            'note_str':\n",
    "                f['note_str'].bytes_list.value[i],\n",
    "            'instrument':\n",
    "                f['instrument'].int64_list.value[i],\n",
    "            'instrument_str':\n",
    "                f['instrument_str'].bytes_list.value[i],\n",
    "            'pitch':\n",
    "                f['pitch'].int64_list.value[i],\n",
    "            'velocity':\n",
    "                f['pitch'].int64_list.value[i],\n",
    "            'samplerate':\n",
    "                f['sample_rate'].int64_list.value[i],\n",
    "            'audio':\n",
    "                np.array(f['audio'].float_list.value),\n",
    "            'qualities':\n",
    "                np.array(f['qualities'].int64_list.value),\n",
    "            'qualities_str':\n",
    "                np.array(f['qualities_str'].int64_list.value),\n",
    "            'instrument_family':\n",
    "                f['instrument_family'].int64_list.value[i],\n",
    "            'instrument_family_str':\n",
    "                f['instrument_family_str'].bytes_list.value[i],\n",
    "            'instrument_source':\n",
    "                f['instrument_family'].int64_list.value[i],\n",
    "            'instrument_source_str':\n",
    "                f['instrument_source_str'].bytes_list.value[i],\n",
    "        }\n",
    "#         print(data)\n",
    "\n",
    "        yield example.SerializeToString(), f, data, audio"
   ]
  },
  {
   "cell_type": "code",
   "execution_count": 3,
   "metadata": {},
   "outputs": [],
   "source": [
    "def filterData(inputFile, outputFile):\n",
    "    dataset = nsynth_generator(inputFile)\n",
    "    count = 1\n",
    "    data = next(dataset)\n",
    "    writer = tf.python_io.TFRecordWriter(outputFile)\n",
    "    try:\n",
    "        while data:\n",
    "            if data[1][\"instrument_family\"].int64_list.value[0] == 4:\n",
    "                writer.write(data[0])\n",
    "            print(data[2])\n",
    "            data = next(dataset)\n",
    "    except StopIteration:\n",
    "        pass\n",
    "    writer.close()"
   ]
  },
  {
   "cell_type": "code",
   "execution_count": 4,
   "metadata": {},
   "outputs": [],
   "source": [
    "inputFile = \"nsynth-train.tfrecord\"\n",
    "outputFile = \"filtered_data_keyboard.tfrecord\"\n",
    "gen_samples = nsynth_generator(outputFile)\n",
    "data, f, metadata, audio = next(gen_samples)\n",
    "data, f, metadata, audio = next(gen_samples)\n",
    "data, f, metadata, audio = next(gen_samples)\n",
    "\n",
    "# Audio(audio, rate=22050)"
   ]
  },
  {
   "cell_type": "code",
   "execution_count": 5,
   "metadata": {},
   "outputs": [],
   "source": [
    "\n",
    "# filterData(inputFile, outputFile)"
   ]
  },
  {
   "cell_type": "code",
   "execution_count": 6,
   "metadata": {},
   "outputs": [],
   "source": [
    "# print(len(audio))\n",
    "# Audio(audio, rate=metadata['samplerate'])\n",
    "# plt.plot(audio)"
   ]
  },
  {
   "cell_type": "code",
   "execution_count": 7,
   "metadata": {},
   "outputs": [],
   "source": [
    "# for example in tf.python_io.tf_record_iterator(tfrecords_filename):\n",
    "#     result = tf.train.Example.FromString(example)\n",
    "#     print(result)"
   ]
  },
  {
   "cell_type": "code",
   "execution_count": 15,
   "metadata": {},
   "outputs": [
    {
     "name": "stdout",
     "output_type": "stream",
     "text": [
      "[[-39.24286706 -39.20285616 -39.14986392 ... -79.86042243 -79.86042243\n",
      "  -79.86042243]\n",
      " [-47.65484182 -48.4188032  -50.37204551 ... -79.86042243 -79.86042243\n",
      "  -79.86042243]\n",
      " [-47.36015603 -47.05593564 -46.41410933 ... -79.86042243 -79.86042243\n",
      "  -79.86042243]\n",
      " ...\n",
      " [-79.86042243  -0.17213774  -1.7691701  ... -79.86042243 -79.86042243\n",
      "  -79.86042243]\n",
      " [-79.86042243   0.13957757  -1.3592978  ... -79.86042243 -79.86042243\n",
      "  -79.86042243]\n",
      " [-71.9405125   -9.8767972  -12.1232504  ... -79.86042243 -79.86042243\n",
      "  -79.86042243]]\n"
     ]
    },
    {
     "data": {
      "text/plain": [
       "<matplotlib.axes._subplots.AxesSubplot at 0x14727627400>"
      ]
     },
     "execution_count": 15,
     "metadata": {},
     "output_type": "execute_result"
    },
    {
     "data": {
      "image/png": "[encoded data removed]",
      "text/plain": [
       "<Figure size 1008x360 with 1 Axes>"
      ]
     },
     "metadata": {},
     "output_type": "display_data"
    }
   ],
   "source": [
    "X = librosa.cqt(audio)\n",
    "Xdb = librosa.amplitude_to_db(abs(X))\n",
    "plt.figure(figsize=(14, 5))\n",
    "librosa.display.specshow(Xdb, sr=22050, x_axis='time', y_axis='hz')"
   ]
  },
  {
   "cell_type": "code",
   "execution_count": null,
   "metadata": {},
   "outputs": [],
   "source": []
  }
 ],
 "metadata": {
  "kernelspec": {
   "display_name": "Python 3",
   "language": "python",
   "name": "python3"
  },
  "language_info": {
   "codemirror_mode": {
    "name": "ipython",
    "version": 3
   },
   "file_extension": ".py",
   "mimetype": "text/x-python",
   "name": "python",
   "nbconvert_exporter": "python",
   "pygments_lexer": "ipython3",
   "version": "3.5.5"
  }
 },
 "nbformat": 4,
 "nbformat_minor": 2
}
