{
 "cells": [
  {
   "cell_type": "code",
   "execution_count": 1,
   "metadata": {},
   "outputs": [
    {
     "ename": "ModuleNotFoundError",
     "evalue": "No module named 'tensorflow'",
     "output_type": "error",
     "traceback": [
      "\u001b[1;31m---------------------------------------------------------------------------\u001b[0m",
      "\u001b[1;31mModuleNotFoundError\u001b[0m                       Traceback (most recent call last)",
      "\u001b[1;32m<ipython-input-1-68669f3e12f4>\u001b[0m in \u001b[0;36m<module>\u001b[1;34m()\u001b[0m\n\u001b[0;32m      2\u001b[0m \u001b[1;33m\u001b[0m\u001b[0m\n\u001b[0;32m      3\u001b[0m \u001b[1;32mimport\u001b[0m \u001b[0mmatplotlib\u001b[0m\u001b[1;33m.\u001b[0m\u001b[0mpyplot\u001b[0m \u001b[1;32mas\u001b[0m \u001b[0mplt\u001b[0m\u001b[1;33m\u001b[0m\u001b[0m\n\u001b[1;32m----> 4\u001b[1;33m \u001b[1;32mimport\u001b[0m \u001b[0mtensorflow\u001b[0m \u001b[1;32mas\u001b[0m \u001b[0mtf\u001b[0m\u001b[1;33m\u001b[0m\u001b[0m\n\u001b[0m\u001b[0;32m      5\u001b[0m \u001b[1;32mimport\u001b[0m \u001b[0mnumpy\u001b[0m \u001b[1;32mas\u001b[0m \u001b[0mnp\u001b[0m\u001b[1;33m\u001b[0m\u001b[0m\n\u001b[0;32m      6\u001b[0m \u001b[1;32mfrom\u001b[0m \u001b[0mIPython\u001b[0m\u001b[1;33m.\u001b[0m\u001b[0mdisplay\u001b[0m \u001b[1;32mimport\u001b[0m \u001b[0mAudio\u001b[0m\u001b[1;33m\u001b[0m\u001b[0m\n",
      "\u001b[1;31mModuleNotFoundError\u001b[0m: No module named 'tensorflow'"
     ]
    }
   ],
   "source": [
    "%matplotlib inline\n",
    "\n",
    "import matplotlib.pyplot as plt\n",
    "import tensorflow as tf\n",
    "import numpy as np\n",
    "from IPython.display import Audio\n",
    "\n",
    "tfrecords_filename = 'D:/Documents/nsynth/nsynth-train.tfrecord'"
   ]
  },
  {
   "cell_type": "code",
   "execution_count": 4,
   "metadata": {},
   "outputs": [],
   "source": [
    "def nsynth_generator(tfrecords_filename):\n",
    "    for serialized_example in tf.python_io.tf_record_iterator(tfrecords_filename):\n",
    "        example = tf.train.Example()\n",
    "        example.ParseFromString(serialized_example)\n",
    "        f = example.features.feature\n",
    "        i=0\n",
    "#         result = tf.train.Example.FromString(serialized_example)\n",
    "#         print(result)\n",
    "        data_array = []\n",
    "\n",
    "        audio = np.array(f['audio'].float_list.value)\n",
    "\n",
    "        data = {\n",
    "            'note':\n",
    "                f['note'].int64_list.value[i],\n",
    "            'note_str':\n",
    "                f['note_str'].bytes_list.value[i],\n",
    "            'instrument':\n",
    "                f['instrument'].int64_list.value[i],\n",
    "            'instrument_str':\n",
    "                f['instrument_str'].bytes_list.value[i],\n",
    "            'pitch':\n",
    "                f['pitch'].int64_list.value[i],\n",
    "            'velocity':\n",
    "                f['pitch'].int64_list.value[i],\n",
    "            'samplerate':\n",
    "                f['sample_rate'].int64_list.value[i],\n",
    "            'audio':\n",
    "                np.array(f['audio'].float_list.value),\n",
    "            'qualities':\n",
    "                np.array(f['qualities'].int64_list.value),\n",
    "            'qualities_str':\n",
    "                np.array(f['qualities_str'].int64_list.value),\n",
    "            'instrument_family':\n",
    "                f['instrument_family'].int64_list.value[i],\n",
    "            'instrument_family_str':\n",
    "                f['instrument_family_str'].bytes_list.value[i],\n",
    "            'instrument_source':\n",
    "                f['instrument_family'].int64_list.value[i],\n",
    "            'instrument_source_str':\n",
    "                f['instrument_source_str'].bytes_list.value[i],\n",
    "        }\n",
    "#         print(data)\n",
    "\n",
    "        yield example.SerializeToString(), f, data, audio"
   ]
  },
  {
   "cell_type": "code",
   "execution_count": 5,
   "metadata": {},
   "outputs": [],
   "source": [
    "def filterData(inputFile, outputFile):\n",
    "\tdataset = nsynth_generator(inputFile)\n",
    "\tcount = 1\n",
    "\tdata = next(dataset)\n",
    "\twriter = tf.python_io.TFRecordWriter(outputFile)\n",
    "\ttry:\n",
    "\t\twhile data:\n",
    "\t\t\tif data[1][\"instrument_family\"].int64_list.value[0] == 4:\n",
    "\t\t\t\twriter.write(data[0])\n",
    "\t\t\t\tcount+=1\n",
    "\t\t\t\tprint(count)\n",
    "\t\t\tprint(data[2])\n",
    "\t\t\tdata = next(dataset)\n",
    "\texcept StopIteration:\n",
    "\t\tpass\n",
    "\twriter.close()"
   ]
  },
  {
   "cell_type": "code",
   "execution_count": 6,
   "metadata": {},
   "outputs": [
    {
     "ename": "NameError",
     "evalue": "name 'tfrecords_filename' is not defined",
     "output_type": "error",
     "traceback": [
      "\u001b[1;31m---------------------------------------------------------------------------\u001b[0m",
      "\u001b[1;31mNameError\u001b[0m                                 Traceback (most recent call last)",
      "\u001b[1;32m<ipython-input-6-c060114e1314>\u001b[0m in \u001b[0;36m<module>\u001b[1;34m()\u001b[0m\n\u001b[1;32m----> 1\u001b[1;33m \u001b[0mgen_samples\u001b[0m \u001b[1;33m=\u001b[0m \u001b[0mnsynth_generator\u001b[0m\u001b[1;33m(\u001b[0m\u001b[0mtfrecords_filename\u001b[0m\u001b[1;33m)\u001b[0m\u001b[1;33m\u001b[0m\u001b[0m\n\u001b[0m\u001b[0;32m      2\u001b[0m \u001b[0mmetadata\u001b[0m\u001b[1;33m,\u001b[0m \u001b[0maudio\u001b[0m \u001b[1;33m=\u001b[0m \u001b[0mnext\u001b[0m\u001b[1;33m(\u001b[0m\u001b[0mgen_samples\u001b[0m\u001b[1;33m)\u001b[0m\u001b[1;33m\u001b[0m\u001b[0m\n\u001b[0;32m      3\u001b[0m \u001b[0mmetadata\u001b[0m\u001b[1;33m,\u001b[0m \u001b[0maudio\u001b[0m \u001b[1;33m=\u001b[0m \u001b[0mnext\u001b[0m\u001b[1;33m(\u001b[0m\u001b[0mgen_samples\u001b[0m\u001b[1;33m)\u001b[0m\u001b[1;33m\u001b[0m\u001b[0m\n\u001b[0;32m      4\u001b[0m \u001b[0mmetadata\u001b[0m\u001b[1;33m,\u001b[0m \u001b[0maudio\u001b[0m \u001b[1;33m=\u001b[0m \u001b[0mnext\u001b[0m\u001b[1;33m(\u001b[0m\u001b[0mgen_samples\u001b[0m\u001b[1;33m)\u001b[0m\u001b[1;33m\u001b[0m\u001b[0m\n",
      "\u001b[1;31mNameError\u001b[0m: name 'tfrecords_filename' is not defined"
     ]
    }
   ],
   "source": [
    "gen_samples = nsynth_generator(tfrecords_filename)\n",
    "metadata, audio = next(gen_samples)\n",
    "metadata, audio = next(gen_samples)\n",
    "metadata, audio = next(gen_samples)"
   ]
  },
  {
   "cell_type": "code",
   "execution_count": null,
   "metadata": {},
   "outputs": [],
   "source": [
    "inputFile = \"nsynth-train.tfrecord\"\n",
    "outputFile = \"filtered_data_keyboard.tfrecord\"\n",
    "\n",
    "filterData(inputFile, outputFile)"
   ]
  },
  {
   "cell_type": "code",
   "execution_count": 2,
   "metadata": {},
   "outputs": [
    {
     "ename": "NameError",
     "evalue": "name 'audio' is not defined",
     "output_type": "error",
     "traceback": [
      "\u001b[1;31m---------------------------------------------------------------------------\u001b[0m",
      "\u001b[1;31mNameError\u001b[0m                                 Traceback (most recent call last)",
      "\u001b[1;32m<ipython-input-2-419300f939c8>\u001b[0m in \u001b[0;36m<module>\u001b[1;34m()\u001b[0m\n\u001b[1;32m----> 1\u001b[1;33m \u001b[0mprint\u001b[0m\u001b[1;33m(\u001b[0m\u001b[0mlen\u001b[0m\u001b[1;33m(\u001b[0m\u001b[0maudio\u001b[0m\u001b[1;33m)\u001b[0m\u001b[1;33m)\u001b[0m\u001b[1;33m\u001b[0m\u001b[0m\n\u001b[0m\u001b[0;32m      2\u001b[0m \u001b[0mAudio\u001b[0m\u001b[1;33m(\u001b[0m\u001b[0maudio\u001b[0m\u001b[1;33m,\u001b[0m \u001b[0mrate\u001b[0m\u001b[1;33m=\u001b[0m\u001b[0mmetadata\u001b[0m\u001b[1;33m[\u001b[0m\u001b[1;34m'samplerate'\u001b[0m\u001b[1;33m]\u001b[0m\u001b[1;33m)\u001b[0m\u001b[1;33m\u001b[0m\u001b[0m\n\u001b[0;32m      3\u001b[0m \u001b[0mplt\u001b[0m\u001b[1;33m.\u001b[0m\u001b[0mplot\u001b[0m\u001b[1;33m(\u001b[0m\u001b[0maudio\u001b[0m\u001b[1;33m)\u001b[0m\u001b[1;33m\u001b[0m\u001b[0m\n",
      "\u001b[1;31mNameError\u001b[0m: name 'audio' is not defined"
     ]
    }
   ],
   "source": [
    "print(len(audio))\n",
    "Audio(audio, rate=metadata['samplerate'])\n",
    "plt.plot(audio)"
   ]
  },
  {
   "cell_type": "code",
   "execution_count": null,
   "metadata": {},
   "outputs": [],
   "source": [
    "for example in tf.python_io.tf_record_iterator(tfrecords_filename):\n",
    "    result = tf.train.Example.FromString(example)\n",
    "    print(result)"
   ]
  },
  {
   "cell_type": "code",
   "execution_count": null,
   "metadata": {},
   "outputs": [],
   "source": []
  }
 ],
 "metadata": {
  "kernelspec": {
   "display_name": "Python 3",
   "language": "python",
   "name": "python3"
  },
  "language_info": {
   "codemirror_mode": {
    "name": "ipython",
    "version": 3
   },
   "file_extension": ".py",
   "mimetype": "text/x-python",
   "name": "python",
   "nbconvert_exporter": "python",
   "pygments_lexer": "ipython3",
   "version": "3.6.4"
  }
 },
 "nbformat": 4,
 "nbformat_minor": 2
}
