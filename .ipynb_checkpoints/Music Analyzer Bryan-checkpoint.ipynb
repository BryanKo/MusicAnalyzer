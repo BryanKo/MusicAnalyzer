{
 "cells": [
  {
   "cell_type": "code",
   "execution_count": null,
   "metadata": {
    "scrolled": true
   },
   "outputs": [],
   "source": [
    "%matplotlib inline\n",
    "\n",
    "import matplotlib.pyplot as plt\n",
    "import tensorflow as tf\n",
    "import numpy as np\n",
    "from IPython.display import Audio\n",
    "import librosa\n",
    "import librosa.display\n",
    "from tensorflow.contrib import rnn \n",
    "\n",
    "# TESTING RNN (TUTORIAL)\n",
    "# from tensorflow.examples.tutorials.mnist import input_data\n",
    "# mnist = input_data.read_data_sets(\"/tmp/data/\", one_hot = True)\n",
    "\n",
    "# prints out full length of array\n",
    "# np.set_printoptions(threshold=np.nan)\n",
    "\n",
    "tfrecords_filename = 'D:/Documents/nsynth/nsynth-train.tfrecord'\n",
    "filter_tfrecords_filename = 'D:/Documents/nsynth/filtered_data_keyboard.tfrecord'"
   ]
  },
  {
   "cell_type": "code",
   "execution_count": null,
   "metadata": {},
   "outputs": [],
   "source": [
    "# parse TFRecord file into a generator\n",
    "# https://github.com/faroit/nsynth-convert\n",
    "def nsynth_generator(tfrecords_filename):\n",
    "    for serialized_example in tf.python_io.tf_record_iterator(tfrecords_filename):\n",
    "        example = tf.train.Example()\n",
    "        example.ParseFromString(serialized_example)\n",
    "        f = example.features.feature\n",
    "        i=0\n",
    "#         result = tf.train.Example.FromString(serialized_example)\n",
    "#         print(result)\n",
    "        data_array = []\n",
    "\n",
    "        audio = np.array(f['audio'].float_list.value)\n",
    "\n",
    "        data = {\n",
    "            'note':\n",
    "                f['note'].int64_list.value[i],\n",
    "            'note_str':\n",
    "                f['note_str'].bytes_list.value[i],\n",
    "            'instrument':\n",
    "                f['instrument'].int64_list.value[i],\n",
    "            'instrument_str':\n",
    "                f['instrument_str'].bytes_list.value[i],\n",
    "            'pitch':\n",
    "                f['pitch'].int64_list.value[i],\n",
    "            'velocity':\n",
    "                f['pitch'].int64_list.value[i],\n",
    "            'samplerate':\n",
    "                f['sample_rate'].int64_list.value[i],\n",
    "            'audio':\n",
    "                np.array(f['audio'].float_list.value),\n",
    "            'qualities':\n",
    "                np.array(f['qualities'].int64_list.value),\n",
    "            'qualities_str':\n",
    "                np.array(f['qualities_str'].int64_list.value),\n",
    "            'instrument_family':\n",
    "                f['instrument_family'].int64_list.value[i],\n",
    "            'instrument_family_str':\n",
    "                f['instrument_family_str'].bytes_list.value[i],\n",
    "            'instrument_source':\n",
    "                f['instrument_family'].int64_list.value[i],\n",
    "            'instrument_source_str':\n",
    "                f['instrument_source_str'].bytes_list.value[i],\n",
    "        }\n",
    "#         print(data)\n",
    "\n",
    "        yield example.SerializeToString(), f, data, audio"
   ]
  },
  {
   "cell_type": "code",
   "execution_count": null,
   "metadata": {},
   "outputs": [],
   "source": [
    "# Filter function to only contain keyboard tag\n",
    "def filterData(inputFile, outputFile):\n",
    "    dataset = nsynth_generator(inputFile)\n",
    "    count = 1\n",
    "    data = next(dataset)\n",
    "    writer = tf.python_io.TFRecordWriter(outputFile)\n",
    "    try:\n",
    "        while data:\n",
    "            if data[1][\"instrument_family\"].int64_list.value[0] == 4:\n",
    "                writer.write(data[0])\n",
    "            print(data[2])\n",
    "            data = next(dataset)\n",
    "    except StopIteration:\n",
    "        pass\n",
    "    writer.close()"
   ]
  },
  {
   "cell_type": "code",
   "execution_count": null,
   "metadata": {},
   "outputs": [],
   "source": [
    "# Testing nsynth_generator function\n",
    "gen_samples = nsynth_generator(tfrecords_filename)\n",
    "metadata, audio = next(gen_samples)"
   ]
  },
  {
   "cell_type": "code",
   "execution_count": null,
   "metadata": {},
   "outputs": [],
   "source": [
    "# Filters the 80GB of data to new file total: 51820\n",
    "outputFile = \"filtered_data_keyboard2.tfrecord\"\n",
    "filterData(tfrecords_filename, outputFile)"
   ]
  },
  {
   "cell_type": "code",
   "execution_count": null,
   "metadata": {},
   "outputs": [],
   "source": [
    "# Print out all data\n",
    "# for example in tf.python_io.tf_record_iterator(tfrecords_filename):\n",
    "for example in tf.python_io.tf_record_iterator(filter_tfrecords_filename):\n",
    "    result = tf.train.Example.FromString(example)\n",
    "    print(result)"
   ]
  },
  {
   "cell_type": "code",
   "execution_count": null,
   "metadata": {},
   "outputs": [],
   "source": [
    "gen_filter = nsynth_generator(filter_tfrecords_filename)"
   ]
  },
  {
   "cell_type": "code",
   "execution_count": null,
   "metadata": {},
   "outputs": [],
   "source": [
    "# Filtered data\n",
    "# metadata, audio = next(gen_filter)\n",
    "for i in range(5):\n",
    "    metadata, audio = next(gen_filter)\n",
    "print(audio)\n",
    "plt.figure(figsize=(14, 5))\n",
    "plt.plot(audio)\n",
    "Audio(audio, rate=metadata['sample_rate'])"
   ]
  },
  {
   "cell_type": "code",
   "execution_count": null,
   "metadata": {},
   "outputs": [],
   "source": [
    "# print(len(audio))\n",
    "# print(len(metadata['audio']))\n",
    "CQT = librosa.amplitude_to_db(librosa.magphase(librosa.cqt(audio, sr=16000))[0], ref=np.max)\n",
    "# plt.figure(figsize=(14, 5))\n",
    "# print(CQT)\n",
    "librosa.display.specshow(CQT, sr=metadata['sample_rate'], x_axis='time', y_axis='hz')\n",
    "# print(audio)\n",
    "S = np.abs(librosa.stft(audio))\n",
    "# print(librosa.stft(audio))\n",
    "# print(S)\n",
    "comps, acts = librosa.decompose.decompose(S)\n",
    "print(len(comps))\n",
    "print(len(comps[0]))\n",
    "print(len(acts))\n",
    "print(len(acts[0]))\n",
    "# print(comps)\n",
    "# print(acts)"
   ]
  },
  {
   "cell_type": "code",
   "execution_count": null,
   "metadata": {},
   "outputs": [],
   "source": []
  },
  {
   "cell_type": "code",
   "execution_count": null,
   "metadata": {},
   "outputs": [],
   "source": [
    "# RNN code\n",
    "# source: https://pythonprogramming.net/rnn-tensorflow-python-machine-learning-tutorial/\n",
    "hm_epochs = 3\n",
    "n_classes = 8\n",
    "batch_size = 1025\n",
    "\n",
    "# chunk_size = 25\n",
    "# n_chunks = 41\n",
    "chunk_size = 4\n",
    "n_chunks = 2\n",
    "rnn_size = 128\n",
    "\n",
    "# hm_epochs = 3\n",
    "# n_classes = 10\n",
    "# batch_size = 128\n",
    "# chunk_size = 28\n",
    "# n_chunks = 28\n",
    "# rnn_size = 128"
   ]
  },
  {
   "cell_type": "code",
   "execution_count": null,
   "metadata": {},
   "outputs": [],
   "source": [
    "x = tf.placeholder('float', [None, n_chunks, chunk_size])\n",
    "y = tf.placeholder('float', [None,None])\n",
    "print(x.get_shape())"
   ]
  },
  {
   "cell_type": "code",
   "execution_count": null,
   "metadata": {},
   "outputs": [],
   "source": [
    "def recurrent_neural_network(x):\n",
    "    layer = {'weights':tf.Variable(tf.random_normal([rnn_size,n_classes])),\n",
    "             'biases':tf.Variable(tf.random_normal([n_classes]))}\n",
    "    x = tf.transpose(x, [1,0,2])\n",
    "    x = tf.reshape(x, [-1, 8])\n",
    "    x = tf.split(x, n_chunks, 0)\n",
    "    print(x)\n",
    "    lstm_cell = rnn.BasicLSTMCell(rnn_size,state_is_tuple=True) \n",
    "    outputs, states = rnn.static_rnn(lstm_cell, x, dtype=tf.float32)\n",
    "\n",
    "    output = tf.matmul(outputs[-1],layer['weights']) + layer['biases']\n",
    "\n",
    "    return output"
   ]
  },
  {
   "cell_type": "code",
   "execution_count": null,
   "metadata": {},
   "outputs": [],
   "source": [
    "# REFERENCE CODE (dont run this code)\n",
    "def train_neural_network(x):\n",
    "#     tf.reset_default_graph()\n",
    "    prediction = recurrent_neural_network(x)\n",
    "    # OLD VERSION:\n",
    "    #cost = tf.reduce_mean( tf.nn.softmax_cross_entropy_with_logits(prediction,y) )\n",
    "    # NEW:\n",
    "    cost = tf.reduce_mean( tf.nn.softmax_cross_entropy_with_logits_v2(logits=prediction, labels=y) )\n",
    "    optimizer = tf.train.AdamOptimizer().minimize(cost)\n",
    "    \n",
    "\n",
    "    with tf.Session() as sess:\n",
    "        # OLD:\n",
    "        #sess.run(tf.initialize_all_variables())\n",
    "        # NEW:\n",
    "        sess.run(tf.global_variables_initializer())\n",
    "\n",
    "        for epoch in range(hm_epochs):\n",
    "            epoch_loss = 0\n",
    "            for _ in range(int(mnist.train.num_examples/batch_size)):\n",
    "#             for metadata, audio in gen_filter:\n",
    "                ## need to change batch to audio\n",
    "                epoch_x, epoch_y = mnist.train.next_batch(batch_size)\n",
    "                epoch_x = epoch_x.reshape((batch_size, n_chunks, chunk_size))\n",
    "                _, c = sess.run([optimizer, cost], feed_dict={x: epoch_x, y: epoch_y})\n",
    "                epoch_loss += c\n",
    "\n",
    "            print('Epoch', epoch, 'completed out of',hm_epochs,'loss:',epoch_loss)\n",
    "\n",
    "        correct = tf.equal(tf.argmax(prediction, 1), tf.argmax(y, 1))\n",
    "\n",
    "        accuracy = tf.reduce_mean(tf.cast(correct, 'float'))\n",
    "        print('Accuracy:',accuracy.eval({x:mnist.test.images.reshape((-1, n_chunks, chunk_size)), y:mnist.test.labels}))\n",
    "        sess.close()\n",
    "\n",
    "train_neural_network(x)"
   ]
  },
  {
   "cell_type": "code",
   "execution_count": null,
   "metadata": {},
   "outputs": [],
   "source": [
    "int(mnist.train.num_examples)"
   ]
  },
  {
   "cell_type": "code",
   "execution_count": null,
   "metadata": {},
   "outputs": [],
   "source": [
    "prediction = recurrent_neural_network(x)\n",
    "cost = tf.reduce_mean( tf.nn.softmax_cross_entropy_with_logits_v2(logits=prediction, labels=y) )\n",
    "optimizer = tf.train.AdamOptimizer().minimize(cost)\n",
    "# MODIFIED CODE\n",
    "with tf.Session() as sess:\n",
    "    sess.run(tf.global_variables_initializer())\n",
    "    cnt = 0\n",
    "    gen_filter = nsynth_generator(filter_tfrecords_filename)\n",
    "    metadata, audio = next(gen_filter)\n",
    "\n",
    "    for epoch in range(hm_epochs):\n",
    "        epoch_loss = 0   \n",
    "        cnt=0\n",
    "#         try:\n",
    "#             while metadata:\n",
    "#                 if(cnt == 25): break\n",
    "                \n",
    "#                 X = librosa.cqt(audio)\n",
    "#                 Xdb = librosa.amplitude_to_db(abs(X))\n",
    "#                 print(len(X))\n",
    "#                 print(len(X[0]))\n",
    "#                 librosa.display.specshow(Xdb, sr=metadata['sample_rate'], x_axis='time', y_axis='hz')\n",
    "                \n",
    "# #                 epoch_x, epoch_y = mnist.train.next_batch(batch_size)           \n",
    "# #                 epoch_x = epoch_x.reshape((batch_size, n_chunks, chunk_size))\n",
    "# #                 _, c = sess.run([optimizer, cost], feed_dict={x: epoch_x, y: epoch_y})\n",
    "# #                 epoch_loss += c \n",
    "                \n",
    "#                 metadata, audio = next(gen_filter)\n",
    "#                 cnt += 1\n",
    "#         except StopIteration:\n",
    "#             pass\n",
    "        for metadata, audio in gen_filter:\n",
    "            if(cnt == 5): break\n",
    "            cnt += 1\n",
    "            S = np.abs(librosa.stft(metadata['audio']))\n",
    "#             comps, acts = librosa.decompose.decompose(S)\n",
    "            comps, acts = librosa.decompose.decompose(S, n_components=8)\n",
    "            print(len(comps), len(comps[0]))\n",
    "            print(len(acts), len(acts[0]))\n",
    "            comps = comps.reshape((batch_size, n_chunks, chunk_size))\n",
    "            print(len(comps), len(comps[0]))\n",
    "            # STUCK HERE\n",
    "            _, c = sess.run([optimizer, cost], feed_dict={x: comps, y: acts})\n",
    "            epoch_loss += c\n",
    "        print('Epoch', epoch, 'completed out of',hm_epochs,'loss:',epoch_loss)\n",
    "        \n",
    "        # Filter function to only contain keyboard tag\n",
    "#             print(epoch_y)\n",
    "            ## need to change batch to audio\n",
    "#             epoch_x = epoch_x.reshape((batch_size, n_chunks, chunk_size))\n",
    "#             _, c = sess.run([optimizer, cost], feed_dict={x: epoch_x, y: epoch_y})\n",
    "#             epoch_loss += c\n",
    "\n",
    "#         print('Epoch', epoch, 'completed out of',hm_epochs,'loss:',epoch_loss)\n",
    "\n",
    "#     correct = tf.equal(tf.argmax(prediction, 1), tf.argmax(y, 1))\n",
    "\n",
    "#     accuracy = tf.reduce_mean(tf.cast(correct, 'float'))\n",
    "#     print('Accuracy:',accuracy.eval({x:mnist.test.images.reshape((-1, n_chunks, chunk_size)), y:mnist.test.labels}))\n",
    "    sess.close()\n"
   ]
  },
  {
   "cell_type": "code",
   "execution_count": null,
   "metadata": {},
   "outputs": [],
   "source": [
    "config = tf.ConfigProto()\n",
    "config.gpu_options.allow_growth=True\n",
    "sess = tf.Session(config=config)"
   ]
  },
  {
   "cell_type": "code",
   "execution_count": null,
   "metadata": {
    "scrolled": false
   },
   "outputs": [],
   "source": [
    "prediction = recurrent_neural_network(x)"
   ]
  },
  {
   "cell_type": "code",
   "execution_count": null,
   "metadata": {},
   "outputs": [],
   "source": [
    "print(prediction)"
   ]
  },
  {
   "cell_type": "code",
   "execution_count": null,
   "metadata": {},
   "outputs": [],
   "source": [
    "comps, acts = librosa.decompose.decompose(S, n_components=8)\n",
    "print(len(comps))\n",
    "print(len(comps[1]))\n",
    "comps = comps.reshape((batch_size, n_chunks, chunk_size))\n",
    "print(len(comps))\n",
    "print(len(comps[0]))\n",
    "print(len(comps[0][0]))"
   ]
  },
  {
   "cell_type": "code",
   "execution_count": null,
   "metadata": {},
   "outputs": [],
   "source": [
    "epoch_x, epoch_y = mnist.train.next_batch(batch_size)\n",
    "print(len(epoch_x))\n",
    "print(len(epoch_x[0]))"
   ]
  },
  {
   "cell_type": "code",
   "execution_count": null,
   "metadata": {},
   "outputs": [],
   "source": [
    "# Filter function to only contain keyboard tag\n",
    "def selectData(inputFile, outputFile):\n",
    "    dataset = nsynth_generator(inputFile)\n",
    "    cnt = 0\n",
    "    arr_cnt = 0\n",
    "    data = next(dataset)\n",
    "    writer = tf.python_io.TFRecordWriter(outputFile)\n",
    "    try:\n",
    "        while data:\n",
    "#             if (arr_cnt == 50): break\n",
    "#             if ~300000 entries -> result ~60000\n",
    "            if cnt == 5:\n",
    "                cnt = 0\n",
    "                writer.write(data[0])\n",
    "                print(arr_cnt)\n",
    "                print(data[2])\n",
    "                arr_cnt+=1\n",
    "            cnt+=1      \n",
    "            data = next(dataset)\n",
    "    except StopIteration:\n",
    "        pass\n",
    "    writer.close()"
   ]
  },
  {
   "cell_type": "code",
   "execution_count": null,
   "metadata": {},
   "outputs": [],
   "source": [
    "outputFile = \"select_5_interval_data.tfrecord\"\n",
    "selectData(tfrecords_filename, outputFile)"
   ]
  },
  {
   "cell_type": "code",
   "execution_count": null,
   "metadata": {},
   "outputs": [],
   "source": []
  }
 ],
 "metadata": {
  "kernelspec": {
   "display_name": "Python 3",
   "language": "python",
   "name": "python3"
  },
  "language_info": {
   "codemirror_mode": {
    "name": "ipython",
    "version": 3
   },
   "file_extension": ".py",
   "mimetype": "text/x-python",
   "name": "python",
   "nbconvert_exporter": "python",
   "pygments_lexer": "ipython3",
   "version": "3.5.5"
  }
 },
 "nbformat": 4,
 "nbformat_minor": 2
}
