{
 "cells": [
  {
   "cell_type": "code",
   "execution_count": 1,
   "metadata": {
    "scrolled": true
   },
   "outputs": [
    {
     "name": "stdout",
     "output_type": "stream",
     "text": [
      "WARNING:tensorflow:From C:\\Users\\imbko\\AppData\\Roaming\\Python\\Python35\\site-packages\\tensorflow\\contrib\\learn\\python\\learn\\datasets\\base.py:198: retry (from tensorflow.contrib.learn.python.learn.datasets.base) is deprecated and will be removed in a future version.\n",
      "Instructions for updating:\n",
      "Use the retry module or similar alternatives.\n",
      "WARNING:tensorflow:From <ipython-input-1-4a1e83dbe1d3>:13: read_data_sets (from tensorflow.contrib.learn.python.learn.datasets.mnist) is deprecated and will be removed in a future version.\n",
      "Instructions for updating:\n",
      "Please use alternatives such as official/mnist/dataset.py from tensorflow/models.\n",
      "WARNING:tensorflow:From C:\\Users\\imbko\\AppData\\Roaming\\Python\\Python35\\site-packages\\tensorflow\\contrib\\learn\\python\\learn\\datasets\\mnist.py:260: maybe_download (from tensorflow.contrib.learn.python.learn.datasets.base) is deprecated and will be removed in a future version.\n",
      "Instructions for updating:\n",
      "Please write your own downloading logic.\n",
      "WARNING:tensorflow:From C:\\Users\\imbko\\AppData\\Roaming\\Python\\Python35\\site-packages\\tensorflow\\contrib\\learn\\python\\learn\\datasets\\mnist.py:262: extract_images (from tensorflow.contrib.learn.python.learn.datasets.mnist) is deprecated and will be removed in a future version.\n",
      "Instructions for updating:\n",
      "Please use tf.data to implement this functionality.\n",
      "Extracting /tmp/data/train-images-idx3-ubyte.gz\n",
      "WARNING:tensorflow:From C:\\Users\\imbko\\AppData\\Roaming\\Python\\Python35\\site-packages\\tensorflow\\contrib\\learn\\python\\learn\\datasets\\mnist.py:267: extract_labels (from tensorflow.contrib.learn.python.learn.datasets.mnist) is deprecated and will be removed in a future version.\n",
      "Instructions for updating:\n",
      "Please use tf.data to implement this functionality.\n",
      "Extracting /tmp/data/train-labels-idx1-ubyte.gz\n",
      "WARNING:tensorflow:From C:\\Users\\imbko\\AppData\\Roaming\\Python\\Python35\\site-packages\\tensorflow\\contrib\\learn\\python\\learn\\datasets\\mnist.py:110: dense_to_one_hot (from tensorflow.contrib.learn.python.learn.datasets.mnist) is deprecated and will be removed in a future version.\n",
      "Instructions for updating:\n",
      "Please use tf.one_hot on tensors.\n",
      "Extracting /tmp/data/t10k-images-idx3-ubyte.gz\n",
      "Extracting /tmp/data/t10k-labels-idx1-ubyte.gz\n",
      "WARNING:tensorflow:From C:\\Users\\imbko\\AppData\\Roaming\\Python\\Python35\\site-packages\\tensorflow\\contrib\\learn\\python\\learn\\datasets\\mnist.py:290: DataSet.__init__ (from tensorflow.contrib.learn.python.learn.datasets.mnist) is deprecated and will be removed in a future version.\n",
      "Instructions for updating:\n",
      "Please use alternatives such as official/mnist/dataset.py from tensorflow/models.\n"
     ]
    }
   ],
   "source": [
    "%matplotlib inline\n",
    "\n",
    "import matplotlib.pyplot as plt\n",
    "import tensorflow as tf\n",
    "import numpy as np\n",
    "from IPython.display import Audio\n",
    "import librosa\n",
    "import librosa.display\n",
    "from tensorflow.contrib import rnn \n",
    "\n",
    "# TESTING RNN (TUTORIAL)\n",
    "from tensorflow.examples.tutorials.mnist import input_data\n",
    "mnist = input_data.read_data_sets(\"/tmp/data/\", one_hot = True)\n",
    "\n",
    "# prints out full length of array\n",
    "# np.set_printoptions(threshold=np.nan)\n",
    "\n",
    "tfrecords_filename = 'D:/Documents/nsynth/nsynth-train.tfrecord'\n",
    "filter_tfrecords_filename = 'D:/Documents/nsynth/filtered_data_keyboard.tfrecord'"
   ]
  },
  {
   "cell_type": "code",
   "execution_count": null,
   "metadata": {},
   "outputs": [],
   "source": [
    "# parse TFRecord file into a generator\n",
    "# https://github.com/faroit/nsynth-convert\n",
    "def nsynth_generator(tfrecords_filename):\n",
    "    for serialized_example in tf.python_io.tf_record_iterator(tfrecords_filename):\n",
    "        example = tf.train.Example()\n",
    "        example.ParseFromString(serialized_example)\n",
    "        f = example.features.feature\n",
    "#         result = tf.train.Example.FromString(serialized_example)\n",
    "#         print(result)\n",
    "\n",
    "        audio = np.array(f['audio'].float_list.value)\n",
    "\n",
    "        data = {\n",
    "            'note':\n",
    "                f['note'].int64_list.value[0],\n",
    "            'note_str':\n",
    "                f['note_str'].bytes_list.value[0],\n",
    "            'instrument':\n",
    "                f['instrument'].int64_list.value[0],\n",
    "            'instrument_str':\n",
    "                f['instrument_str'].bytes_list.value[0],\n",
    "            'pitch':\n",
    "                f['pitch'].int64_list.value[0],\n",
    "            'velocity':\n",
    "                f['pitch'].int64_list.value[0],\n",
    "            'sample_rate':\n",
    "                f['sample_rate'].int64_list.value[0],\n",
    "            'audio':\n",
    "                np.array(f['audio'].float_list.value),\n",
    "            'qualities':\n",
    "                np.array(f['qualities'].int64_list.value),\n",
    "            'qualities_str':\n",
    "                np.array(f['qualities_str'].bytes_list.value),\n",
    "            'instrument_family':\n",
    "                f['instrument_family'].int64_list.value[0],\n",
    "            'instrument_family_str':\n",
    "                f['instrument_family_str'].bytes_list.value[0],\n",
    "            'instrument_source':\n",
    "                f['instrument_family'].int64_list.value[0],\n",
    "            'instrument_source_str':\n",
    "                f['instrument_source_str'].bytes_list.value[0],\n",
    "        }\n",
    "#         print(data)\n",
    "\n",
    "        yield data, audio"
   ]
  },
  {
   "cell_type": "code",
   "execution_count": null,
   "metadata": {},
   "outputs": [],
   "source": [
    "# Filter function to only contain keyboard tag\n",
    "def filterData(inputFile, outputFile):\n",
    "    dataset = nsynth_generator(inputFile)\n",
    "    count = 0\n",
    "    data = next(dataset)\n",
    "    writer = tf.python_io.TFRecordWriter(outputFile)\n",
    "    try:\n",
    "        while data:\n",
    "            if data[1][\"instrument_family\"].int64_list.value[0] == 4:\n",
    "                writer.write(data[0])\n",
    "                print(count)\n",
    "                print(data[2])\n",
    "                count+=1\n",
    "            data = next(dataset)\n",
    "    except StopIteration:\n",
    "        pass\n",
    "    writer.close()"
   ]
  },
  {
   "cell_type": "code",
   "execution_count": null,
   "metadata": {},
   "outputs": [],
   "source": [
    "# Testing nsynth_generator function\n",
    "gen_samples = nsynth_generator(tfrecords_filename)\n",
    "metadata, audio = next(gen_samples)"
   ]
  },
  {
   "cell_type": "code",
   "execution_count": null,
   "metadata": {},
   "outputs": [],
   "source": [
    "# Filters the 80GB of data to new file total: 51820\n",
    "outputFile = \"filtered_data_keyboard.tfrecord\"\n",
    "filterData(tfrecords_filename, outputFile)"
   ]
  },
  {
   "cell_type": "code",
   "execution_count": null,
   "metadata": {},
   "outputs": [],
   "source": [
    "# Print out all data\n",
    "# for example in tf.python_io.tf_record_iterator(tfrecords_filename):\n",
    "for example in tf.python_io.tf_record_iterator(filter_tfrecords_filename):\n",
    "    result = tf.train.Example.FromString(example)\n",
    "    print(result)"
   ]
  },
  {
   "cell_type": "code",
   "execution_count": null,
   "metadata": {},
   "outputs": [],
   "source": [
    "gen_filter = nsynth_generator(filter_tfrecords_filename)"
   ]
  },
  {
   "cell_type": "code",
   "execution_count": null,
   "metadata": {},
   "outputs": [],
   "source": [
    "# Filtered data\n",
    "metadata, audio = next(gen_filter)\n",
    "print(audio)\n",
    "Audio(audio, rate=metadata['sample_rate'])\n",
    "plt.plot(audio)"
   ]
  },
  {
   "cell_type": "code",
   "execution_count": null,
   "metadata": {},
   "outputs": [],
   "source": [
    "X = librosa.cqt(audio)\n",
    "Xdb = librosa.amplitude_to_db(abs(X))\n",
    "# plt.figure(figsize=(14, 5))\n",
    "librosa.display.specshow(Xdb, sr=22050, x_axis='time', y_axis='hz')"
   ]
  },
  {
   "cell_type": "code",
   "execution_count": null,
   "metadata": {},
   "outputs": [],
   "source": []
  },
  {
   "cell_type": "code",
   "execution_count": 2,
   "metadata": {},
   "outputs": [],
   "source": [
    "# RNN code\n",
    "# hm_epochs = 10\n",
    "# n_classes = 10\n",
    "# batch_size = 20\n",
    "\n",
    "# chunk_size = 250\n",
    "# n_chunks = 256\n",
    "# rnn_size = 128\n",
    "hm_epochs = 3\n",
    "n_classes = 10\n",
    "batch_size = 128\n",
    "chunk_size = 28\n",
    "n_chunks = 28\n",
    "rnn_size = 128"
   ]
  },
  {
   "cell_type": "code",
   "execution_count": 3,
   "metadata": {},
   "outputs": [],
   "source": [
    "x = tf.placeholder('float', [None, n_chunks, chunk_size])\n",
    "y = tf.placeholder('float')"
   ]
  },
  {
   "cell_type": "code",
   "execution_count": 4,
   "metadata": {},
   "outputs": [],
   "source": [
    "def recurrent_neural_network(x):\n",
    "    layer = {'weights':tf.Variable(tf.random_normal([rnn_size,n_classes])),\n",
    "             'biases':tf.Variable(tf.random_normal([n_classes]))}\n",
    "\n",
    "    x = tf.transpose(x, [1,0,2])\n",
    "    x = tf.reshape(x, [-1, chunk_size])\n",
    "    x = tf.split(x, n_chunks, 0)\n",
    "#     print(x)\n",
    "\n",
    "    lstm_cell = rnn.BasicLSTMCell(rnn_size,state_is_tuple=True) \n",
    "    outputs, states = rnn.static_rnn(lstm_cell, x, dtype=tf.float32)\n",
    "\n",
    "    output = tf.matmul(outputs[-1],layer['weights']) + layer['biases']\n",
    "\n",
    "    return output"
   ]
  },
  {
   "cell_type": "code",
   "execution_count": 5,
   "metadata": {},
   "outputs": [
    {
     "name": "stdout",
     "output_type": "stream",
     "text": [
      "Tensor(\"add:0\", shape=(?, 10), dtype=float32)\n",
      "Tensor(\"Mean:0\", shape=(), dtype=float32)\n",
      "name: \"Adam\"\n",
      "op: \"NoOp\"\n",
      "input: \"^Adam/update_Variable/ApplyAdam\"\n",
      "input: \"^Adam/update_Variable_1/ApplyAdam\"\n",
      "input: \"^Adam/update_rnn/basic_lstm_cell/kernel/ApplyAdam\"\n",
      "input: \"^Adam/update_rnn/basic_lstm_cell/bias/ApplyAdam\"\n",
      "input: \"^Adam/Assign\"\n",
      "input: \"^Adam/Assign_1\"\n",
      "\n",
      "Epoch 0 completed out of 3 loss: 205.22172967344522\n",
      "Epoch 1 completed out of 3 loss: 57.23569322191179\n",
      "Epoch 2 completed out of 3 loss: 39.01983759365976\n",
      "Accuracy: 0.9742\n"
     ]
    }
   ],
   "source": [
    "def train_neural_network(x):\n",
    "#     tf.reset_default_graph()\n",
    "    prediction = recurrent_neural_network(x)\n",
    "    print(prediction)\n",
    "    # OLD VERSION:\n",
    "    #cost = tf.reduce_mean( tf.nn.softmax_cross_entropy_with_logits(prediction,y) )\n",
    "    # NEW:\n",
    "    cost = tf.reduce_mean( tf.nn.softmax_cross_entropy_with_logits_v2(logits=prediction, labels=y) )\n",
    "    print(cost)\n",
    "    optimizer = tf.train.AdamOptimizer().minimize(cost)\n",
    "    print(optimizer)\n",
    "    \n",
    "\n",
    "    with tf.Session() as sess:\n",
    "        # OLD:\n",
    "        #sess.run(tf.initialize_all_variables())\n",
    "        # NEW:\n",
    "        sess.run(tf.global_variables_initializer())\n",
    "\n",
    "        for epoch in range(hm_epochs):\n",
    "            epoch_loss = 0\n",
    "            for _ in range(int(mnist.train.num_examples/batch_size)):\n",
    "                epoch_x, epoch_y = mnist.train.next_batch(batch_size)\n",
    "                epoch_x = epoch_x.reshape((batch_size, n_chunks, chunk_size))\n",
    "                _, c = sess.run([optimizer, cost], feed_dict={x: epoch_x, y: epoch_y})\n",
    "                epoch_loss += c\n",
    "\n",
    "            print('Epoch', epoch, 'completed out of',hm_epochs,'loss:',epoch_loss)\n",
    "\n",
    "        correct = tf.equal(tf.argmax(prediction, 1), tf.argmax(y, 1))\n",
    "\n",
    "        accuracy = tf.reduce_mean(tf.cast(correct, 'float'))\n",
    "        print('Accuracy:',accuracy.eval({x:mnist.test.images.reshape((-1, n_chunks, chunk_size)), y:mnist.test.labels}))\n",
    "\n",
    "train_neural_network(x)"
   ]
  },
  {
   "cell_type": "code",
   "execution_count": null,
   "metadata": {},
   "outputs": [],
   "source": []
  },
  {
   "cell_type": "code",
   "execution_count": null,
   "metadata": {},
   "outputs": [],
   "source": []
  }
 ],
 "metadata": {
  "kernelspec": {
   "display_name": "Python 3",
   "language": "python",
   "name": "python3"
  },
  "language_info": {
   "codemirror_mode": {
    "name": "ipython",
    "version": 3
   },
   "file_extension": ".py",
   "mimetype": "text/x-python",
   "name": "python",
   "nbconvert_exporter": "python",
   "pygments_lexer": "ipython3",
   "version": "3.5.5"
  }
 },
 "nbformat": 4,
 "nbformat_minor": 2
}
